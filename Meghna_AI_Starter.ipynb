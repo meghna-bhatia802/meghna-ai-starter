{
  "nbformat": 4,
  "nbformat_minor": 0,
  "metadata": {
    "colab": {
      "provenance": [],
      "authorship_tag": "ABX9TyOOTBtL+JNsITv/JFSzT8HU",
      "include_colab_link": true
    },
    "kernelspec": {
      "name": "python3",
      "display_name": "Python 3"
    },
    "language_info": {
      "name": "python"
    }
  },
  "cells": [
    {
      "cell_type": "markdown",
      "metadata": {
        "id": "view-in-github",
        "colab_type": "text"
      },
      "source": [
        "<a href=\"https://colab.research.google.com/github/meghna-bhatia802/meghna-ai-starter/blob/main/Meghna_AI_Starter.ipynb\" target=\"_parent\"><img src=\"https://colab.research.google.com/assets/colab-badge.svg\" alt=\"Open In Colab\"/></a>"
      ]
    },
    {
      "cell_type": "code",
      "execution_count": 1,
      "metadata": {
        "colab": {
          "base_uri": "https://localhost:8080/"
        },
        "id": "9KEEwKWg36Gv",
        "outputId": "ff9f0b34-1415-42f5-cc52-4737dc150d63"
      },
      "outputs": [
        {
          "output_type": "stream",
          "name": "stdout",
          "text": [
            "Hi Meghna — welcome to your AI journey!\n",
            "Mean of numbers = 25.0\n",
            "\n",
            "Here's your tiny emotion dataset:\n",
            "  emotion  score\n",
            "0   happy      9\n",
            "1     sad      3\n",
            "2   angry      4\n",
            "3    calm      8\n"
          ]
        }
      ],
      "source": [
        "# Meghna's first AI notebook ✨\n",
        "\n",
        "print(\"Hi Meghna — welcome to your AI journey!\")\n",
        "\n",
        "# a small Python exercise\n",
        "nums = [10, 20, 30, 40]\n",
        "mean = sum(nums)/len(nums)\n",
        "print(\"Mean of numbers =\", mean)\n",
        "\n",
        "# a mini data example\n",
        "import pandas as pd\n",
        "\n",
        "df = pd.DataFrame({\n",
        "    \"emotion\": [\"happy\", \"sad\", \"angry\", \"calm\"],\n",
        "    \"score\": [9, 3, 4, 8]\n",
        "})\n",
        "\n",
        "print(\"\\nHere's your tiny emotion dataset:\")\n",
        "print(df)"
      ]
    }
  ]
}